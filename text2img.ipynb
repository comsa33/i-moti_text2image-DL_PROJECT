{
 "cells": [
  {
   "cell_type": "code",
   "execution_count": 1,
   "id": "9ff0671d-b4d2-4aeb-9300-534090e76cc8",
   "metadata": {},
   "outputs": [
    {
     "data": {
      "text/html": [
       "<div>\n",
       "<style scoped>\n",
       "    .dataframe tbody tr th:only-of-type {\n",
       "        vertical-align: middle;\n",
       "    }\n",
       "\n",
       "    .dataframe tbody tr th {\n",
       "        vertical-align: top;\n",
       "    }\n",
       "\n",
       "    .dataframe thead th {\n",
       "        text-align: right;\n",
       "    }\n",
       "</style>\n",
       "<table border=\"1\" class=\"dataframe\">\n",
       "  <thead>\n",
       "    <tr style=\"text-align: right;\">\n",
       "      <th></th>\n",
       "      <th>#</th>\n",
       "      <th>emoji</th>\n",
       "      <th>unicode</th>\n",
       "      <th>name</th>\n",
       "      <th>Apple</th>\n",
       "      <th>Google</th>\n",
       "      <th>Facebook</th>\n",
       "      <th>Windows</th>\n",
       "      <th>Twitter</th>\n",
       "      <th>JoyPixels</th>\n",
       "      <th>Samsung</th>\n",
       "      <th>Gmail</th>\n",
       "      <th>SoftBank</th>\n",
       "      <th>DoCoMo</th>\n",
       "      <th>KDDI</th>\n",
       "    </tr>\n",
       "  </thead>\n",
       "  <tbody>\n",
       "    <tr>\n",
       "      <th>0</th>\n",
       "      <td>1</td>\n",
       "      <td>😀</td>\n",
       "      <td>U+1F600</td>\n",
       "      <td>grinning face</td>\n",
       "      <td>data:image/png;base64,iVBORw0KGgoAAAANSUhEUgAA...</td>\n",
       "      <td>data:image/png;base64,iVBORw0KGgoAAAANSUhEUgAA...</td>\n",
       "      <td>data:image/png;base64,iVBORw0KGgoAAAANSUhEUgAA...</td>\n",
       "      <td>data:image/png;base64,iVBORw0KGgoAAAANSUhEUgAA...</td>\n",
       "      <td>data:image/png;base64,iVBORw0KGgoAAAANSUhEUgAA...</td>\n",
       "      <td>data:image/png;base64,iVBORw0KGgoAAAANSUhEUgAA...</td>\n",
       "      <td>data:image/png;base64,iVBORw0KGgoAAAANSUhEUgAA...</td>\n",
       "      <td>data:image/png;base64,R0lGODlhDAAPAKIFAJh3AP/z...</td>\n",
       "      <td>NaN</td>\n",
       "      <td>NaN</td>\n",
       "      <td>NaN</td>\n",
       "    </tr>\n",
       "    <tr>\n",
       "      <th>1</th>\n",
       "      <td>2</td>\n",
       "      <td>😃</td>\n",
       "      <td>U+1F603</td>\n",
       "      <td>grinning face with big eyes</td>\n",
       "      <td>data:image/png;base64,iVBORw0KGgoAAAANSUhEUgAA...</td>\n",
       "      <td>data:image/png;base64,iVBORw0KGgoAAAANSUhEUgAA...</td>\n",
       "      <td>data:image/png;base64,iVBORw0KGgoAAAANSUhEUgAA...</td>\n",
       "      <td>data:image/png;base64,iVBORw0KGgoAAAANSUhEUgAA...</td>\n",
       "      <td>data:image/png;base64,iVBORw0KGgoAAAANSUhEUgAA...</td>\n",
       "      <td>data:image/png;base64,iVBORw0KGgoAAAANSUhEUgAA...</td>\n",
       "      <td>data:image/png;base64,iVBORw0KGgoAAAANSUhEUgAA...</td>\n",
       "      <td>data:image/png;base64,R0lGODlhDAAMAKIFAF5LAP/z...</td>\n",
       "      <td>data:image/png;base64,R0lGODlhDwAPAKIAAP///wAA...</td>\n",
       "      <td>data:image/png;base64,R0lGODlhDAAMAIABAMxm////...</td>\n",
       "      <td>data:image/png;base64,R0lGODlhDgAPALMJAP//mf/M...</td>\n",
       "    </tr>\n",
       "    <tr>\n",
       "      <th>2</th>\n",
       "      <td>3</td>\n",
       "      <td>😄</td>\n",
       "      <td>U+1F604</td>\n",
       "      <td>grinning face with smiling eyes</td>\n",
       "      <td>data:image/png;base64,iVBORw0KGgoAAAANSUhEUgAA...</td>\n",
       "      <td>data:image/png;base64,iVBORw0KGgoAAAANSUhEUgAA...</td>\n",
       "      <td>data:image/png;base64,iVBORw0KGgoAAAANSUhEUgAA...</td>\n",
       "      <td>data:image/png;base64,iVBORw0KGgoAAAANSUhEUgAA...</td>\n",
       "      <td>data:image/png;base64,iVBORw0KGgoAAAANSUhEUgAA...</td>\n",
       "      <td>data:image/png;base64,iVBORw0KGgoAAAANSUhEUgAA...</td>\n",
       "      <td>data:image/png;base64,iVBORw0KGgoAAAANSUhEUgAA...</td>\n",
       "      <td>data:image/png;base64,R0lGODlhDAAMAKIGAF5LAJh3...</td>\n",
       "      <td>data:image/png;base64,R0lGODlhDwAPAHcAMSH+GlNv...</td>\n",
       "      <td>NaN</td>\n",
       "      <td>NaN</td>\n",
       "    </tr>\n",
       "    <tr>\n",
       "      <th>3</th>\n",
       "      <td>4</td>\n",
       "      <td>😁</td>\n",
       "      <td>U+1F601</td>\n",
       "      <td>beaming face with smiling eyes</td>\n",
       "      <td>data:image/png;base64,iVBORw0KGgoAAAANSUhEUgAA...</td>\n",
       "      <td>data:image/png;base64,iVBORw0KGgoAAAANSUhEUgAA...</td>\n",
       "      <td>data:image/png;base64,iVBORw0KGgoAAAANSUhEUgAA...</td>\n",
       "      <td>data:image/png;base64,iVBORw0KGgoAAAANSUhEUgAA...</td>\n",
       "      <td>data:image/png;base64,iVBORw0KGgoAAAANSUhEUgAA...</td>\n",
       "      <td>data:image/png;base64,iVBORw0KGgoAAAANSUhEUgAA...</td>\n",
       "      <td>data:image/png;base64,iVBORw0KGgoAAAANSUhEUgAA...</td>\n",
       "      <td>data:image/png;base64,R0lGODlhDAAMAKIGAIoAAf/v...</td>\n",
       "      <td>data:image/png;base64,R0lGODlhDwAPAHcAMSH+GlNv...</td>\n",
       "      <td>data:image/png;base64,R0lGODlhDAAMAIABAP+ZAP//...</td>\n",
       "      <td>data:image/png;base64,R0lGODlhDgAPALMIAJmZmf//...</td>\n",
       "    </tr>\n",
       "    <tr>\n",
       "      <th>4</th>\n",
       "      <td>5</td>\n",
       "      <td>😆</td>\n",
       "      <td>U+1F606</td>\n",
       "      <td>grinning squinting face</td>\n",
       "      <td>data:image/png;base64,iVBORw0KGgoAAAANSUhEUgAA...</td>\n",
       "      <td>data:image/png;base64,iVBORw0KGgoAAAANSUhEUgAA...</td>\n",
       "      <td>data:image/png;base64,iVBORw0KGgoAAAANSUhEUgAA...</td>\n",
       "      <td>data:image/png;base64,iVBORw0KGgoAAAANSUhEUgAA...</td>\n",
       "      <td>data:image/png;base64,iVBORw0KGgoAAAANSUhEUgAA...</td>\n",
       "      <td>data:image/png;base64,iVBORw0KGgoAAAANSUhEUgAA...</td>\n",
       "      <td>data:image/png;base64,iVBORw0KGgoAAAANSUhEUgAA...</td>\n",
       "      <td>data:image/png;base64,R0lGODlhEAAMAKIFAF5LAP/z...</td>\n",
       "      <td>NaN</td>\n",
       "      <td>data:image/png;base64,R0lGODlhDAAMAIABAMxm////...</td>\n",
       "      <td>NaN</td>\n",
       "    </tr>\n",
       "  </tbody>\n",
       "</table>\n",
       "</div>"
      ],
      "text/plain": [
       "   # emoji  unicode                             name  \\\n",
       "0  1     😀  U+1F600                    grinning face   \n",
       "1  2     😃  U+1F603      grinning face with big eyes   \n",
       "2  3     😄  U+1F604  grinning face with smiling eyes   \n",
       "3  4     😁  U+1F601   beaming face with smiling eyes   \n",
       "4  5     😆  U+1F606          grinning squinting face   \n",
       "\n",
       "                                               Apple  \\\n",
       "0  data:image/png;base64,iVBORw0KGgoAAAANSUhEUgAA...   \n",
       "1  data:image/png;base64,iVBORw0KGgoAAAANSUhEUgAA...   \n",
       "2  data:image/png;base64,iVBORw0KGgoAAAANSUhEUgAA...   \n",
       "3  data:image/png;base64,iVBORw0KGgoAAAANSUhEUgAA...   \n",
       "4  data:image/png;base64,iVBORw0KGgoAAAANSUhEUgAA...   \n",
       "\n",
       "                                              Google  \\\n",
       "0  data:image/png;base64,iVBORw0KGgoAAAANSUhEUgAA...   \n",
       "1  data:image/png;base64,iVBORw0KGgoAAAANSUhEUgAA...   \n",
       "2  data:image/png;base64,iVBORw0KGgoAAAANSUhEUgAA...   \n",
       "3  data:image/png;base64,iVBORw0KGgoAAAANSUhEUgAA...   \n",
       "4  data:image/png;base64,iVBORw0KGgoAAAANSUhEUgAA...   \n",
       "\n",
       "                                            Facebook  \\\n",
       "0  data:image/png;base64,iVBORw0KGgoAAAANSUhEUgAA...   \n",
       "1  data:image/png;base64,iVBORw0KGgoAAAANSUhEUgAA...   \n",
       "2  data:image/png;base64,iVBORw0KGgoAAAANSUhEUgAA...   \n",
       "3  data:image/png;base64,iVBORw0KGgoAAAANSUhEUgAA...   \n",
       "4  data:image/png;base64,iVBORw0KGgoAAAANSUhEUgAA...   \n",
       "\n",
       "                                             Windows  \\\n",
       "0  data:image/png;base64,iVBORw0KGgoAAAANSUhEUgAA...   \n",
       "1  data:image/png;base64,iVBORw0KGgoAAAANSUhEUgAA...   \n",
       "2  data:image/png;base64,iVBORw0KGgoAAAANSUhEUgAA...   \n",
       "3  data:image/png;base64,iVBORw0KGgoAAAANSUhEUgAA...   \n",
       "4  data:image/png;base64,iVBORw0KGgoAAAANSUhEUgAA...   \n",
       "\n",
       "                                             Twitter  \\\n",
       "0  data:image/png;base64,iVBORw0KGgoAAAANSUhEUgAA...   \n",
       "1  data:image/png;base64,iVBORw0KGgoAAAANSUhEUgAA...   \n",
       "2  data:image/png;base64,iVBORw0KGgoAAAANSUhEUgAA...   \n",
       "3  data:image/png;base64,iVBORw0KGgoAAAANSUhEUgAA...   \n",
       "4  data:image/png;base64,iVBORw0KGgoAAAANSUhEUgAA...   \n",
       "\n",
       "                                           JoyPixels  \\\n",
       "0  data:image/png;base64,iVBORw0KGgoAAAANSUhEUgAA...   \n",
       "1  data:image/png;base64,iVBORw0KGgoAAAANSUhEUgAA...   \n",
       "2  data:image/png;base64,iVBORw0KGgoAAAANSUhEUgAA...   \n",
       "3  data:image/png;base64,iVBORw0KGgoAAAANSUhEUgAA...   \n",
       "4  data:image/png;base64,iVBORw0KGgoAAAANSUhEUgAA...   \n",
       "\n",
       "                                             Samsung  \\\n",
       "0  data:image/png;base64,iVBORw0KGgoAAAANSUhEUgAA...   \n",
       "1  data:image/png;base64,iVBORw0KGgoAAAANSUhEUgAA...   \n",
       "2  data:image/png;base64,iVBORw0KGgoAAAANSUhEUgAA...   \n",
       "3  data:image/png;base64,iVBORw0KGgoAAAANSUhEUgAA...   \n",
       "4  data:image/png;base64,iVBORw0KGgoAAAANSUhEUgAA...   \n",
       "\n",
       "                                               Gmail  \\\n",
       "0  data:image/png;base64,R0lGODlhDAAPAKIFAJh3AP/z...   \n",
       "1  data:image/png;base64,R0lGODlhDAAMAKIFAF5LAP/z...   \n",
       "2  data:image/png;base64,R0lGODlhDAAMAKIGAF5LAJh3...   \n",
       "3  data:image/png;base64,R0lGODlhDAAMAKIGAIoAAf/v...   \n",
       "4  data:image/png;base64,R0lGODlhEAAMAKIFAF5LAP/z...   \n",
       "\n",
       "                                            SoftBank  \\\n",
       "0                                                NaN   \n",
       "1  data:image/png;base64,R0lGODlhDwAPAKIAAP///wAA...   \n",
       "2  data:image/png;base64,R0lGODlhDwAPAHcAMSH+GlNv...   \n",
       "3  data:image/png;base64,R0lGODlhDwAPAHcAMSH+GlNv...   \n",
       "4                                                NaN   \n",
       "\n",
       "                                              DoCoMo  \\\n",
       "0                                                NaN   \n",
       "1  data:image/png;base64,R0lGODlhDAAMAIABAMxm////...   \n",
       "2                                                NaN   \n",
       "3  data:image/png;base64,R0lGODlhDAAMAIABAP+ZAP//...   \n",
       "4  data:image/png;base64,R0lGODlhDAAMAIABAMxm////...   \n",
       "\n",
       "                                                KDDI  \n",
       "0                                                NaN  \n",
       "1  data:image/png;base64,R0lGODlhDgAPALMJAP//mf/M...  \n",
       "2                                                NaN  \n",
       "3  data:image/png;base64,R0lGODlhDgAPALMIAJmZmf//...  \n",
       "4                                                NaN  "
      ]
     },
     "execution_count": 1,
     "metadata": {},
     "output_type": "execute_result"
    }
   ],
   "source": [
    "import pandas as pd\n",
    "import numpy as np\n",
    "import matplotlib.pyplot as plt\n",
    "from urllib import request\n",
    "from PIL import Image\n",
    "from IPython import display\n",
    "import time\n",
    "\n",
    "datapath = 'dataset/full_emoji.csv'\n",
    "df = pd.read_csv(datapath)\n",
    "df.head()"
   ]
  },
  {
   "cell_type": "code",
   "execution_count": 2,
   "id": "8e812f6c-7858-4207-86da-9d02bbf5ec07",
   "metadata": {},
   "outputs": [],
   "source": [
    "def toimg(img_url):\n",
    "    request.urlretrieve(img_url, 'img')\n",
    "    img = Image.open('img')\n",
    "    return img\n",
    "\n",
    "def imgtoarray(img_url):\n",
    "    try:\n",
    "        img = toimg(img_url)\n",
    "        return np.asarray(img)\n",
    "    except TypeError:\n",
    "        return None"
   ]
  },
  {
   "cell_type": "code",
   "execution_count": 3,
   "id": "a92534fa-a101-45a9-95d4-f50c7c1b6f0e",
   "metadata": {},
   "outputs": [],
   "source": [
    "import tensorflow as tf\n",
    "from tensorflow.keras.preprocessing.text import Tokenizer\n",
    "from tensorflow.keras.preprocessing.sequence import pad_sequences"
   ]
  },
  {
   "cell_type": "code",
   "execution_count": 4,
   "id": "b6339e88-2623-4f0f-8c47-7d660dfdeed1",
   "metadata": {},
   "outputs": [
    {
     "data": {
      "text/plain": [
       "100"
      ]
     },
     "execution_count": 4,
     "metadata": {},
     "output_type": "execute_result"
    }
   ],
   "source": [
    "texts = df['name'][:100].values\n",
    "len(texts)"
   ]
  },
  {
   "cell_type": "code",
   "execution_count": 5,
   "id": "b222b74e-9959-4848-ba78-ac06c1c1d114",
   "metadata": {},
   "outputs": [
    {
     "data": {
      "text/plain": [
       "array(['grinning face', 'grinning face with big eyes',\n",
       "       'grinning face with smiling eyes',\n",
       "       'beaming face with smiling eyes', 'grinning squinting face'],\n",
       "      dtype=object)"
      ]
     },
     "execution_count": 5,
     "metadata": {},
     "output_type": "execute_result"
    }
   ],
   "source": [
    "texts[:5]"
   ]
  },
  {
   "cell_type": "code",
   "execution_count": 6,
   "id": "9512ef8c-f53c-4326-8c10-67b191b127e8",
   "metadata": {},
   "outputs": [
    {
     "data": {
      "text/plain": [
       "120"
      ]
     },
     "execution_count": 6,
     "metadata": {},
     "output_type": "execute_result"
    }
   ],
   "source": [
    "tokenizer = Tokenizer(num_words=2000)\n",
    "tokenizer.fit_on_texts(texts)\n",
    "word_dic = tokenizer.word_index\n",
    "vocab_size = len(word_dic)\n",
    "vocab_size"
   ]
  },
  {
   "cell_type": "code",
   "execution_count": 7,
   "id": "1489d158-2067-4e54-9e8f-1384be1217ad",
   "metadata": {
    "scrolled": true,
    "tags": []
   },
   "outputs": [
    {
     "data": {
      "text/plain": [
       "[[6, 1],\n",
       " [6, 1, 2, 26, 4],\n",
       " [6, 1, 2, 3, 4],\n",
       " [27, 1, 2, 3, 4],\n",
       " [6, 12, 1],\n",
       " [6, 1, 2, 7],\n",
       " [13, 14, 28, 29, 30],\n",
       " [1, 2, 31, 15, 32],\n",
       " [16, 3, 1],\n",
       " [33, 34, 1]]"
      ]
     },
     "execution_count": 7,
     "metadata": {},
     "output_type": "execute_result"
    }
   ],
   "source": [
    "sequences = tokenizer.texts_to_sequences(texts)\n",
    "sequences[:10]"
   ]
  },
  {
   "cell_type": "code",
   "execution_count": 8,
   "id": "37ecec68-8a55-4d62-a7ac-1bd76e12369a",
   "metadata": {},
   "outputs": [
    {
     "data": {
      "text/plain": [
       "array([[ 0,  0,  0,  6,  1],\n",
       "       [ 6,  1,  2, 26,  4],\n",
       "       [ 6,  1,  2,  3,  4],\n",
       "       [27,  1,  2,  3,  4],\n",
       "       [ 0,  0,  6, 12,  1],\n",
       "       [ 0,  6,  1,  2,  7],\n",
       "       [13, 14, 28, 29, 30],\n",
       "       [ 1,  2, 31, 15, 32],\n",
       "       [ 0,  0, 16,  3,  1],\n",
       "       [ 0,  0, 33, 34,  1]], dtype=int32)"
      ]
     },
     "execution_count": 8,
     "metadata": {},
     "output_type": "execute_result"
    }
   ],
   "source": [
    "padded = pad_sequences(sequences)\n",
    "padded[:10]"
   ]
  },
  {
   "cell_type": "code",
   "execution_count": 9,
   "id": "eac7f159-16b6-4d0f-80e4-5bf13b02f9f1",
   "metadata": {},
   "outputs": [
    {
     "data": {
      "text/plain": [
       "(100, 5)"
      ]
     },
     "execution_count": 9,
     "metadata": {},
     "output_type": "execute_result"
    }
   ],
   "source": [
    "texts_vec = np.asarray(padded)\n",
    "texts_vec.shape"
   ]
  },
  {
   "cell_type": "code",
   "execution_count": 10,
   "id": "25e18268-4647-4349-af4c-8749afc48617",
   "metadata": {},
   "outputs": [
    {
     "name": "stdout",
     "output_type": "stream",
     "text": [
      "Metal device set to: Apple M1 Max\n"
     ]
    },
    {
     "name": "stderr",
     "output_type": "stream",
     "text": [
      "2022-02-14 22:02:21.000604: I tensorflow/core/common_runtime/pluggable_device/pluggable_device_factory.cc:305] Could not identify NUMA node of platform GPU ID 0, defaulting to 0. Your kernel may not have been built with NUMA support.\n",
      "2022-02-14 22:02:21.000756: I tensorflow/core/common_runtime/pluggable_device/pluggable_device_factory.cc:271] Created TensorFlow device (/job:localhost/replica:0/task:0/device:GPU:0 with 0 MB memory) -> physical PluggableDevice (device: 0, name: METAL, pci bus id: <undefined>)\n"
     ]
    },
    {
     "data": {
      "text/plain": [
       "<tf.Tensor: shape=(7,), dtype=int64, numpy=array([2, 4, 0, 0, 0, 6, 1])>"
      ]
     },
     "execution_count": 10,
     "metadata": {},
     "output_type": "execute_result"
    }
   ],
   "source": [
    "samp = np.asarray([2, 4])\n",
    "tf.concat([samp, texts_vec[0]], axis=0)"
   ]
  },
  {
   "cell_type": "code",
   "execution_count": 11,
   "id": "1c8fd2d7-a728-4cf0-97e9-5b195091e8cb",
   "metadata": {},
   "outputs": [],
   "source": [
    "train_texts = texts_vec[:80]\n",
    "test_texts = texts_vec[80:]"
   ]
  },
  {
   "cell_type": "code",
   "execution_count": 12,
   "id": "39cfe7b9-2748-403b-8897-cc4b4f6aed4a",
   "metadata": {},
   "outputs": [],
   "source": [
    "google_images = []\n",
    "for url in df['Google'][:100].to_list():\n",
    "    google_images.append(imgtoarray(url))\n",
    "google_images = google_images"
   ]
  },
  {
   "cell_type": "code",
   "execution_count": 13,
   "id": "53140a9c-3226-4888-8804-27653401ff3a",
   "metadata": {},
   "outputs": [],
   "source": [
    "# google_images = google_images / 255.0\n",
    "train_img = google_images[:80]\n",
    "test_img = google_images[80:]"
   ]
  },
  {
   "cell_type": "code",
   "execution_count": 14,
   "id": "57ff6b9b-70e1-40a4-9390-074ca3612c14",
   "metadata": {},
   "outputs": [
    {
     "name": "stderr",
     "output_type": "stream",
     "text": [
      "/var/folders/9_/rnj5svk11p1157tkdv28yb6r0000gn/T/ipykernel_86300/1385172173.py:5: VisibleDeprecationWarning: Creating an ndarray from ragged nested sequences (which is a list-or-tuple of lists-or-tuples-or ndarrays with different lengths or shapes) is deprecated. If you meant to do this, you must specify 'dtype=object' when creating the ndarray.\n",
      "  return np.asarray(result)\n"
     ]
    }
   ],
   "source": [
    "def make_batch(data):\n",
    "    result = []\n",
    "    for i in range(0, len(data), 10):\n",
    "        result.append(np.asarray(data[i:i+11]))\n",
    "    return np.asarray(result)\n",
    "train_img = make_batch(train_img)/ 255.0\n",
    "test_img = make_batch(test_img)/ 255.0\n",
    "train_texts = make_batch(train_texts)\n",
    "test_texts = make_batch(test_texts)"
   ]
  },
  {
   "cell_type": "code",
   "execution_count": 15,
   "id": "1b0bdbf4-443c-4960-8291-0c547a02cb4e",
   "metadata": {},
   "outputs": [
    {
     "data": {
      "text/plain": [
       "(11, 5)"
      ]
     },
     "execution_count": 15,
     "metadata": {},
     "output_type": "execute_result"
    }
   ],
   "source": [
    "train_texts[0].shape"
   ]
  },
  {
   "cell_type": "code",
   "execution_count": 16,
   "id": "ecd83aed-b25b-40ff-b262-8f19051c7cf5",
   "metadata": {},
   "outputs": [],
   "source": [
    "import tensorflow as tf\n",
    "from tensorflow.keras import layers\n",
    "from tensorflow.keras.models import Model"
   ]
  },
  {
   "cell_type": "code",
   "execution_count": 17,
   "id": "8e29dad2-7637-494e-86f5-f5e67cda548b",
   "metadata": {},
   "outputs": [],
   "source": [
    "class CVAE(tf.keras.Model):\n",
    "    \"\"\"Convolutional variational autoencoder.\"\"\"\n",
    "\n",
    "    def __init__(self, latent_dim, len_text):\n",
    "        super(CVAE, self).__init__()\n",
    "        self.len_text = len_text\n",
    "        self.latent_dim = latent_dim\n",
    "        self.encoder = tf.keras.Sequential(\n",
    "            [\n",
    "                tf.keras.layers.InputLayer(input_shape=(72, 72, 4)),\n",
    "                tf.keras.layers.Conv2D(\n",
    "                    filters=32, kernel_size=3, strides=(2, 2), activation='relu'),\n",
    "                tf.keras.layers.Conv2D(\n",
    "                    filters=64, kernel_size=3, strides=(2, 2), activation='relu'),\n",
    "                tf.keras.layers.Flatten(),\n",
    "                # No activation\n",
    "                tf.keras.layers.Dense(latent_dim + latent_dim),\n",
    "            ]\n",
    "        )\n",
    "\n",
    "        self.decoder = tf.keras.Sequential(\n",
    "            [\n",
    "                tf.keras.layers.InputLayer(input_shape=(latent_dim+len_text,)),\n",
    "                tf.keras.layers.Dense(units=18*18*32, activation=tf.nn.relu),\n",
    "                tf.keras.layers.Reshape(target_shape=(18, 18, 32)),\n",
    "                tf.keras.layers.Conv2DTranspose(\n",
    "                    filters=64, kernel_size=3, strides=2, padding='same',\n",
    "                    activation='relu'),\n",
    "                tf.keras.layers.Conv2DTranspose(\n",
    "                    filters=32, kernel_size=3, strides=2, padding='same',\n",
    "                    activation='relu'),\n",
    "                # No activation\n",
    "                tf.keras.layers.Conv2DTranspose(\n",
    "                    filters=4, kernel_size=3, strides=1, padding='same'),\n",
    "            ]\n",
    "        )\n",
    "    @tf.function\n",
    "    def predict(self, y_texts):\n",
    "        eps = tf.random.normal(shape=(len(y_texts), self.latent_dim))\n",
    "        z = tf.concat([eps, y_texts], axis=1)\n",
    "        return self.decode(z, apply_sigmoid=True)\n",
    "    \n",
    "    @tf.function\n",
    "    def sample(self, eps=None):\n",
    "        if eps is None:\n",
    "            eps = tf.random.normal(shape=(100, self.latent_dim+self.len_text))\n",
    "        return self.decode(eps, apply_sigmoid=True)\n",
    "\n",
    "    def encode(self, x):\n",
    "        mean, logvar = tf.split(self.encoder(x), num_or_size_splits=2, axis=1)\n",
    "        return mean, logvar\n",
    "\n",
    "    def reparameterize(self, mean, logvar):\n",
    "        eps = tf.random.normal(shape=mean.shape)\n",
    "        return eps * tf.exp(logvar * .5) + mean\n",
    "    \n",
    "    @tf.function\n",
    "    def decode(self, z, apply_sigmoid=False):\n",
    "        logits = self.decoder(z)\n",
    "        if apply_sigmoid:\n",
    "            probs = tf.sigmoid(logits)\n",
    "            return probs\n",
    "        return logits"
   ]
  },
  {
   "cell_type": "code",
   "execution_count": 18,
   "id": "5db0ed30-d00e-4572-a303-e05766e580c5",
   "metadata": {},
   "outputs": [],
   "source": [
    "optimizer = tf.keras.optimizers.Adam(1e-4)\n",
    "\n",
    "def log_normal_pdf(sample, mean, logvar, raxis=1):\n",
    "    log2pi = tf.math.log(2. * np.pi)\n",
    "    return tf.reduce_sum(\n",
    "      -.5 * ((sample - mean) ** 2. * tf.exp(-logvar) + logvar + log2pi),\n",
    "      axis=raxis)\n",
    "\n",
    "\n",
    "def compute_loss(model, x, x_text):\n",
    "    mean, logvar = model.encode(x)\n",
    "    z = model.reparameterize(mean, logvar)\n",
    "    print(z, z.shape)\n",
    "    x_text = tf.cast(x_text, dtype='float32')\n",
    "    x_text = tf.reshape(x_text, [-1,5])\n",
    "    z_ = tf.concat([z, x_text], axis=1)\n",
    "    x_logit = model.decode(z_)\n",
    "    x_logit = tf.cast(x_logit, dtype='float64')\n",
    "    cross_ent = tf.nn.sigmoid_cross_entropy_with_logits(logits=x_logit, labels=x)\n",
    "    logpx_z = -tf.reduce_sum(cross_ent, axis=[1, 2, 3])\n",
    "    logpx_z = tf.cast(logpx_z, dtype='float32')\n",
    "    logpz = log_normal_pdf(z, 0., 0.)\n",
    "    logqz_x = log_normal_pdf(z, mean, logvar)\n",
    "    return -tf.reduce_mean(logpx_z + logpz - logqz_x)\n",
    "\n",
    "\n",
    "@tf.function\n",
    "def train_step(model, x, x_text, optimizer):\n",
    "    \"\"\"Executes one training step and returns the loss.\n",
    "\n",
    "    This function computes the loss and gradients, and uses the latter to\n",
    "    update the model's parameters.\n",
    "    \"\"\"\n",
    "    with tf.GradientTape() as tape:\n",
    "        loss = compute_loss(model, x, x_text)\n",
    "    gradients = tape.gradient(loss, model.trainable_variables)\n",
    "    optimizer.apply_gradients(zip(gradients, model.trainable_variables))"
   ]
  },
  {
   "cell_type": "code",
   "execution_count": 19,
   "id": "eade7932-2553-483a-9d77-2f9272006f29",
   "metadata": {},
   "outputs": [],
   "source": [
    "epochs = 10000\n",
    "# set the dimensionality of the latent space to a plane for visualization later\n",
    "latent_dim = 2\n",
    "num_examples_to_generate = 10\n",
    "len_text = 5\n",
    "\n",
    "# keeping the random vector constant for generation (prediction) so\n",
    "# it will be easier to see the improvement.\n",
    "random_vector_for_generation = tf.random.normal(\n",
    "    shape=[num_examples_to_generate, latent_dim])\n",
    "model = CVAE(latent_dim, len_text)"
   ]
  },
  {
   "cell_type": "code",
   "execution_count": 20,
   "id": "3a97b708-9774-4223-9253-75d8cb720658",
   "metadata": {},
   "outputs": [],
   "source": [
    "def generate_and_save_images(model, epoch, test_sample, y_text):\n",
    "    mean, logvar = model.encode(test_sample)\n",
    "    z = model.reparameterize(mean, logvar)\n",
    "    z_ = tf.concat([z, y_text], axis=1)\n",
    "    predictions = model.sample(z_)\n",
    "    fig = plt.figure(figsize=(4, 4))\n",
    "\n",
    "    for i in range(predictions.shape[0]):\n",
    "        plt.subplot(4, 4, i + 1)\n",
    "        plt.imshow(predictions[i, :, :, 0])\n",
    "        plt.axis('off')\n",
    "\n",
    "    # tight_layout minimizes the overlap between 2 sub-plots\n",
    "    plt.savefig('./vae_imgs/image_at_epoch_{:04d}.png'.format(epoch))\n",
    "    plt.show()"
   ]
  },
  {
   "cell_type": "code",
   "execution_count": 21,
   "id": "3207b828-4870-4a89-9b36-7b2c228a4da7",
   "metadata": {},
   "outputs": [],
   "source": [
    "train_size = 80\n",
    "batch_size = 20\n",
    "test_size = 20"
   ]
  },
  {
   "cell_type": "code",
   "execution_count": 22,
   "id": "99720ed7-a22f-48c9-acd4-8c1c31733443",
   "metadata": {},
   "outputs": [],
   "source": [
    "# Pick a sample of the test set for generating output images\n",
    "assert batch_size >= num_examples_to_generate\n",
    "for test_batch in test_img:\n",
    "    test_sample = test_batch[0:num_examples_to_generate, :, :, :]"
   ]
  },
  {
   "cell_type": "code",
   "execution_count": 23,
   "id": "35f8f338-13a5-415c-86ea-53ae26b7c0b4",
   "metadata": {},
   "outputs": [],
   "source": [
    "for test_batch in test_texts:\n",
    "    test_sample_ = test_batch[0:num_examples_to_generate, :]"
   ]
  },
  {
   "cell_type": "code",
   "execution_count": 24,
   "id": "cdcfa29b-bcb5-4268-8170-2bc500e5d5b4",
   "metadata": {},
   "outputs": [
    {
     "name": "stderr",
     "output_type": "stream",
     "text": [
      "2022-02-14 22:02:21.329715: W tensorflow/core/platform/profile_utils/cpu_utils.cc:128] Failed to get CPU frequency: 0 Hz\n",
      "2022-02-14 22:02:21.329884: I tensorflow/core/grappler/optimizers/custom_graph_optimizer_registry.cc:112] Plugin optimizer for device_type GPU is enabled.\n"
     ]
    },
    {
     "data": {
      "image/png": "[encoded data removed]",
      "text/plain": [
       "<Figure size 288x288 with 10 Axes>"
      ]
     },
     "metadata": {
      "needs_background": "light"
     },
     "output_type": "display_data"
    },
    {
     "name": "stdout",
     "output_type": "stream",
     "text": [
      "Tensor(\"add:0\", shape=(11, 2), dtype=float32) (11, 2)\n"
     ]
    },
    {
     "ename": "ValueError",
     "evalue": "in user code:\n\n    File \"/var/folders/9_/rnj5svk11p1157tkdv28yb6r0000gn/T/ipykernel_86300/4169519952.py\", line 35, in train_step  *\n        loss = compute_loss(model, x, x_text)\n    File \"/var/folders/9_/rnj5svk11p1157tkdv28yb6r0000gn/T/ipykernel_86300/4169519952.py\", line 19, in compute_loss  *\n        cross_ent = tf.nn.sigmoid_cross_entropy_with_logits(logits=x_logit, labels=x)\n\n    ValueError: `logits` and `labels` must have the same shape, received ((11, 144, 144, 4) vs (11, 72, 72, 4)).\n",
     "output_type": "error",
     "traceback": [
      "\u001b[0;31m---------------------------------------------------------------------------\u001b[0m",
      "\u001b[0;31mValueError\u001b[0m                                Traceback (most recent call last)",
      "Input \u001b[0;32mIn [24]\u001b[0m, in \u001b[0;36m<module>\u001b[0;34m\u001b[0m\n\u001b[1;32m      5\u001b[0m \u001b[38;5;28;01mfor\u001b[39;00m train_x, train_x_ \u001b[38;5;129;01min\u001b[39;00m \u001b[38;5;28mzip\u001b[39m(train_img, train_texts):\n\u001b[1;32m      6\u001b[0m     train_x \u001b[38;5;241m=\u001b[39m tf\u001b[38;5;241m.\u001b[39mcast(train_x, dtype\u001b[38;5;241m=\u001b[39m\u001b[38;5;124m'\u001b[39m\u001b[38;5;124mfloat64\u001b[39m\u001b[38;5;124m'\u001b[39m)\n\u001b[0;32m----> 7\u001b[0m     \u001b[43mtrain_step\u001b[49m\u001b[43m(\u001b[49m\u001b[43mmodel\u001b[49m\u001b[43m,\u001b[49m\u001b[43m \u001b[49m\u001b[43mtrain_x\u001b[49m\u001b[43m,\u001b[49m\u001b[43m \u001b[49m\u001b[43mtrain_x_\u001b[49m\u001b[43m,\u001b[49m\u001b[43m \u001b[49m\u001b[43moptimizer\u001b[49m\u001b[43m)\u001b[49m\n\u001b[1;32m      8\u001b[0m end_time \u001b[38;5;241m=\u001b[39m time\u001b[38;5;241m.\u001b[39mtime()\n\u001b[1;32m     10\u001b[0m loss \u001b[38;5;241m=\u001b[39m tf\u001b[38;5;241m.\u001b[39mkeras\u001b[38;5;241m.\u001b[39mmetrics\u001b[38;5;241m.\u001b[39mMean()\n",
      "File \u001b[0;32m/opt/homebrew/Caskroom/miniforge/base/envs/cp1/lib/python3.8/site-packages/tensorflow/python/util/traceback_utils.py:153\u001b[0m, in \u001b[0;36mfilter_traceback.<locals>.error_handler\u001b[0;34m(*args, **kwargs)\u001b[0m\n\u001b[1;32m    151\u001b[0m \u001b[38;5;28;01mexcept\u001b[39;00m \u001b[38;5;167;01mException\u001b[39;00m \u001b[38;5;28;01mas\u001b[39;00m e:\n\u001b[1;32m    152\u001b[0m   filtered_tb \u001b[38;5;241m=\u001b[39m _process_traceback_frames(e\u001b[38;5;241m.\u001b[39m__traceback__)\n\u001b[0;32m--> 153\u001b[0m   \u001b[38;5;28;01mraise\u001b[39;00m e\u001b[38;5;241m.\u001b[39mwith_traceback(filtered_tb) \u001b[38;5;28;01mfrom\u001b[39;00m \u001b[38;5;28mNone\u001b[39m\n\u001b[1;32m    154\u001b[0m \u001b[38;5;28;01mfinally\u001b[39;00m:\n\u001b[1;32m    155\u001b[0m   \u001b[38;5;28;01mdel\u001b[39;00m filtered_tb\n",
      "File \u001b[0;32m/opt/homebrew/Caskroom/miniforge/base/envs/cp1/lib/python3.8/site-packages/tensorflow/python/framework/func_graph.py:1129\u001b[0m, in \u001b[0;36mfunc_graph_from_py_func.<locals>.autograph_handler\u001b[0;34m(*args, **kwargs)\u001b[0m\n\u001b[1;32m   1127\u001b[0m \u001b[38;5;28;01mexcept\u001b[39;00m \u001b[38;5;167;01mException\u001b[39;00m \u001b[38;5;28;01mas\u001b[39;00m e:  \u001b[38;5;66;03m# pylint:disable=broad-except\u001b[39;00m\n\u001b[1;32m   1128\u001b[0m   \u001b[38;5;28;01mif\u001b[39;00m \u001b[38;5;28mhasattr\u001b[39m(e, \u001b[38;5;124m\"\u001b[39m\u001b[38;5;124mag_error_metadata\u001b[39m\u001b[38;5;124m\"\u001b[39m):\n\u001b[0;32m-> 1129\u001b[0m     \u001b[38;5;28;01mraise\u001b[39;00m e\u001b[38;5;241m.\u001b[39mag_error_metadata\u001b[38;5;241m.\u001b[39mto_exception(e)\n\u001b[1;32m   1130\u001b[0m   \u001b[38;5;28;01melse\u001b[39;00m:\n\u001b[1;32m   1131\u001b[0m     \u001b[38;5;28;01mraise\u001b[39;00m\n",
      "\u001b[0;31mValueError\u001b[0m: in user code:\n\n    File \"/var/folders/9_/rnj5svk11p1157tkdv28yb6r0000gn/T/ipykernel_86300/4169519952.py\", line 35, in train_step  *\n        loss = compute_loss(model, x, x_text)\n    File \"/var/folders/9_/rnj5svk11p1157tkdv28yb6r0000gn/T/ipykernel_86300/4169519952.py\", line 19, in compute_loss  *\n        cross_ent = tf.nn.sigmoid_cross_entropy_with_logits(logits=x_logit, labels=x)\n\n    ValueError: `logits` and `labels` must have the same shape, received ((11, 144, 144, 4) vs (11, 72, 72, 4)).\n"
     ]
    }
   ],
   "source": [
    "generate_and_save_images(model, 0, test_sample, test_sample_)\n",
    "\n",
    "for epoch in range(1, epochs + 1):\n",
    "    start_time = time.time()\n",
    "    for train_x, train_x_ in zip(train_img, train_texts):\n",
    "        train_x = tf.cast(train_x, dtype='float64')\n",
    "        train_step(model, train_x, train_x_, optimizer)\n",
    "    end_time = time.time()\n",
    "\n",
    "    loss = tf.keras.metrics.Mean()\n",
    "    for test_x, test_x_ in zip(test_img, test_texts):\n",
    "        test_x = tf.cast(test_x, dtype='float64')\n",
    "        loss(compute_loss(model, test_x, test_x_))\n",
    "    elbo = -loss.result()\n",
    "    display.clear_output(wait=False)\n",
    "    print('Epoch: {}, Test set ELBO: {}, time elapse for current epoch: {}'\n",
    "        .format(epoch, elbo, end_time - start_time))\n",
    "    generate_and_save_images(model, epoch, test_sample, test_sample_)"
   ]
  },
  {
   "cell_type": "code",
   "execution_count": null,
   "id": "67964c06-063f-4dac-a40c-f971deb719e6",
   "metadata": {},
   "outputs": [],
   "source": [
    "y_texts = tf.cast(texts_vec, dtype='float32')\n",
    "predictions = model.predict(y_texts)\n",
    "fig = plt.figure(figsize=(10, 10))\n",
    "\n",
    "for i in range(predictions.shape[0]):\n",
    "    plt.subplot(10, 10, i + 1)\n",
    "    plt.imshow(predictions[i, :, :, 0])\n",
    "    plt.axis('off')\n",
    "\n",
    "plt.show()"
   ]
  },
  {
   "cell_type": "code",
   "execution_count": null,
   "id": "353afed4-3c2c-4ea8-a888-cdd44c4ada88",
   "metadata": {},
   "outputs": [],
   "source": []
  }
 ],
 "metadata": {
  "kernelspec": {
   "display_name": "Python 3 (ipykernel)",
   "language": "python",
   "name": "python3"
  },
  "language_info": {
   "codemirror_mode": {
    "name": "ipython",
    "version": 3
   },
   "file_extension": ".py",
   "mimetype": "text/x-python",
   "name": "python",
   "nbconvert_exporter": "python",
   "pygments_lexer": "ipython3",
   "version": "3.8.12"
  }
 },
 "nbformat": 4,
 "nbformat_minor": 5
}
